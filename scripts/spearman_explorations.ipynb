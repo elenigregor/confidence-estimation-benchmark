{
 "cells": [
  {
   "cell_type": "code",
   "execution_count": 32,
   "id": "b63290d5",
   "metadata": {},
   "outputs": [],
   "source": [
    "import json\n",
    "import matplotlib.pyplot as plt\n",
    "import matplotlib.lines as mlines\n",
    "import matplotlib.transforms as mtransforms\n",
    "import numpy as np\n",
    "from scipy import stats\n",
    "from statistics import stdev, mean\n",
    "import random\n",
    "\n",
    "NUM_INTENTS = 10\n",
    "NLU_NAMES = ['watson', 'luis', 'snips', 'rasa-sklearn', 'rasa-diet']\n",
    "COLORS = ['lightcoral', 'yellowgreen', 'deepskyblue', 'purple', 'mediumturquoise', 'mediumorchid', 'khaki', 'salmon', 'darkturquoise', 'gold']\n",
    "VERSION = 8\n",
    "NUM_SPLITS = 10\n",
    "\n",
    "def load_json(path):\n",
    "    with open(path) as json_file:\n",
    "        data = json.load(json_file)\n",
    "    return data\n",
    "\n",
    "def remove_empty_preds(data):\n",
    "    new_data = []\n",
    "    for test in data:\n",
    "        if test['text'] != '':\n",
    "            new_data.append(test)\n",
    "    return new_data\n",
    "\n",
    "def get_nlu_result_file(nlu, version, split_num):\n",
    "    nlu_result_file = '../results/' + nlu + '/v' + str(version) + '/' + nlu + '_split_' + str(split_num) + '_results_v' + str(version) + '.json'\n",
    "    return nlu_result_file\n",
    "\n",
    "def get_confidence_score(test, rank=0, nlu=\"watson\", level=\"rank\"):\n",
    "    \"\"\"\n",
    "    the output of this function differs depending on the level.\n",
    "    On rank level, the output is a single float that represents the confidence score of a rank \n",
    "    On model level, the output is a list of floats that includes the confidence scores of all ranks\n",
    "    \"\"\"\n",
    "    if level == \"rank\":\n",
    "        predicted_intent_conf = test['intent_ranking'][rank]['confidence'] # rasa\n",
    "        return predicted_intent_conf \n",
    "    \n",
    "    else: # level == \"model\"\n",
    "        predicted_confidences = [rank['confidence'] for rank in test['intent_ranking']]\n",
    "        return predicted_confidences\n",
    "    \n",
    "def get_accuracy(test, rank=0, nlu=\"watson\", level=\"rank\"):\n",
    "    \"\"\"\n",
    "    the output of this function differs depending on the level.\n",
    "    On rank level, the output is a single int that represents the instance-level accuracy of a rank\n",
    "    On model level, the output is a list of ints that includes the instance-level accuracies of all ranks\n",
    "    \"\"\"\n",
    "    correct_intent = test['correct_intent']\n",
    "    if level == \"rank\":\n",
    "        predicted_intent = test['intent_ranking'][rank]['name']\n",
    "        accuracy = int(correct_intent == predicted_intent)\n",
    "        return accuracy\n",
    "    else:\n",
    "        test_accuracies = []\n",
    "        test_accuracies = [rank['name'] == correct_intent for rank in test['intent_ranking']]\n",
    "        return test_accuracies\n",
    "    \n",
    "def show_reliability_plot(fig, ax, diagram_output_file, plot_title, x_axis_desc='Predicted confidences', y_axis_desc='Accuracy in each bin', yaxis_range=[], save=True, line=True):\n",
    "    # reference line, legends, and axis labels\n",
    "    if line:\n",
    "        line = mlines.Line2D([0, 1], [0, 1], color='black') # perfectly-calibrated model\n",
    "        transform = ax.transAxes \n",
    "        line.set_transform(transform)\n",
    "        ax.add_line(line)\n",
    "    plt.legend()\n",
    "    fig.suptitle(plot_title)\n",
    "    ax.set_xlabel(x_axis_desc)\n",
    "    ax.set_ylabel(y_axis_desc)\n",
    "    if yaxis_range != []:\n",
    "        plt.ylim(yaxis_range)\n",
    "\n",
    "    if save:\n",
    "        plt.savefig(diagram_output_file)\n",
    "    plt.show()"
   ]
  },
  {
   "cell_type": "code",
   "execution_count": 31,
   "id": "e2a486a2",
   "metadata": {},
   "outputs": [],
   "source": [
    "def set_random_descending_scores(test):\n",
    "    scores = sorted([random.uniform(0,1) for _ in range(NUM_INTENTS)], key=lambda x: -x)\n",
    "    for i in range(NUM_INTENTS):\n",
    "        test['intent_ranking'][i]['confidence'] = scores[i]\n",
    "        \n",
    "def set_uniform_descending_scores(test):\n",
    "    for i in range(NUM_INTENTS):\n",
    "        test['intent_ranking'][i]['confidence'] = 1 - i/NUM_INTENTS\n"
   ]
  },
  {
   "cell_type": "markdown",
   "id": "5a946e83",
   "metadata": {},
   "source": [
    "## Model level"
   ]
  },
  {
   "cell_type": "code",
   "execution_count": 26,
   "id": "1df8ee65",
   "metadata": {},
   "outputs": [
    {
     "data": {
      "text/plain": [
       "[{'nlu': 'watson',\n",
       "  'correlation': 0.45588606068384063,\n",
       "  'median': 0.455647822161872,\n",
       "  'pvalue': 0.0,\n",
       "  'standard deviation': 0.0012005259224224527},\n",
       " {'nlu': 'luis',\n",
       "  'correlation': 0.4391351197067121,\n",
       "  'median': 0.43913331279220724,\n",
       "  'pvalue': 0.0,\n",
       "  'standard deviation': 0.00079176123784708},\n",
       " {'nlu': 'snips',\n",
       "  'correlation': 0.4519506496236062,\n",
       "  'median': 0.45207246544223356,\n",
       "  'pvalue': 0.0,\n",
       "  'standard deviation': 0.0009328049643705761},\n",
       " {'nlu': 'rasa-sklearn',\n",
       "  'correlation': 0.4528774407216332,\n",
       "  'median': 0.4530027055358815,\n",
       "  'pvalue': 0.0,\n",
       "  'standard deviation': 0.0007271452371345032},\n",
       " {'nlu': 'rasa-diet',\n",
       "  'correlation': 0.4507468380189293,\n",
       "  'median': 0.4504151485502471,\n",
       "  'pvalue': 0.0,\n",
       "  'standard deviation': 0.001021019936337642}]"
      ]
     },
     "execution_count": 26,
     "metadata": {},
     "output_type": "execute_result"
    }
   ],
   "source": [
    "all_nlus_correlations = [] \n",
    "for i, nlu in enumerate(NLU_NAMES): \n",
    "    nlu_correlations = []\n",
    "    for iteration in range(NUM_SPLITS):\n",
    "        split_num = iteration + 1\n",
    "        # load nlu results\n",
    "        nlu_result_file = get_nlu_result_file(nlu, VERSION, split_num)\n",
    "        data = remove_empty_preds(load_json(nlu_result_file))\n",
    "        \n",
    "        # uncomment the following line to normalize the data\n",
    "        # data = normalize_data(nlu, data)\n",
    "\n",
    "        # get confidence scores and [binary] accuracy for a specific nlu rank\n",
    "        nlu_confidences = []\n",
    "        nlu_accuracies = []\n",
    "        for test in data:\n",
    "            set_random_descending_scores(test)\n",
    "            #set_uniform_descending_scores(test)\n",
    "            predicted_confidences = get_confidence_score(test, nlu=nlu, level=\"model\")\n",
    "            test_accuracies = get_accuracy(test, nlu=nlu, level=\"model\")\n",
    "\n",
    "            nlu_confidences.extend(predicted_confidences)\n",
    "            nlu_accuracies.extend(test_accuracies)\n",
    "\n",
    "        # perform spearman correlation per nlu rank\n",
    "        correlation, pvalue = stats.spearmanr(nlu_confidences, nlu_accuracies, nan_policy='omit')\n",
    "        nlu_correlations.append(correlation)\n",
    "    \n",
    "        \n",
    "    averaged_correlation = sum(nlu_correlations) / len(nlu_correlations)\n",
    "    sd = stdev(nlu_correlations)\n",
    "    median = np.median(nlu_correlations)\n",
    "    all_nlus_correlations.append({'nlu' : nlu , 'correlation' : averaged_correlation, 'median': median, 'pvalue' : pvalue, 'standard deviation' : sd})\n",
    "    \n",
    "all_nlus_correlations"
   ]
  },
  {
   "cell_type": "markdown",
   "id": "77285103",
   "metadata": {},
   "source": [
    "## Rank level"
   ]
  },
  {
   "cell_type": "code",
   "execution_count": 42,
   "id": "b00cdb50",
   "metadata": {},
   "outputs": [
    {
     "ename": "ZeroDivisionError",
     "evalue": "division by zero",
     "output_type": "error",
     "traceback": [
      "\u001b[0;31m---------------------------------------------------------------------------\u001b[0m",
      "\u001b[0;31mZeroDivisionError\u001b[0m                         Traceback (most recent call last)",
      "\u001b[0;32m/tmp/ipykernel_23720/2576908685.py\u001b[0m in \u001b[0;36m<module>\u001b[0;34m\u001b[0m\n\u001b[1;32m     34\u001b[0m         \u001b[0mnlu_rank_correlations\u001b[0m \u001b[0;34m=\u001b[0m \u001b[0;34m[\u001b[0m\u001b[0mx\u001b[0m \u001b[0;32mfor\u001b[0m \u001b[0mx\u001b[0m \u001b[0;32min\u001b[0m \u001b[0mnlu_rank_correlations\u001b[0m \u001b[0;32mif\u001b[0m \u001b[0mstr\u001b[0m\u001b[0;34m(\u001b[0m\u001b[0mx\u001b[0m\u001b[0;34m)\u001b[0m \u001b[0;34m!=\u001b[0m \u001b[0;34m'nan'\u001b[0m\u001b[0;34m]\u001b[0m\u001b[0;34m\u001b[0m\u001b[0;34m\u001b[0m\u001b[0m\n\u001b[1;32m     35\u001b[0m \u001b[0;34m\u001b[0m\u001b[0m\n\u001b[0;32m---> 36\u001b[0;31m         \u001b[0maveraged_correlation\u001b[0m \u001b[0;34m=\u001b[0m \u001b[0msum\u001b[0m\u001b[0;34m(\u001b[0m\u001b[0mnlu_rank_correlations\u001b[0m\u001b[0;34m)\u001b[0m \u001b[0;34m/\u001b[0m \u001b[0mlen\u001b[0m\u001b[0;34m(\u001b[0m\u001b[0mnlu_rank_correlations\u001b[0m\u001b[0;34m)\u001b[0m\u001b[0;34m\u001b[0m\u001b[0;34m\u001b[0m\u001b[0m\n\u001b[0m\u001b[1;32m     37\u001b[0m \u001b[0;34m\u001b[0m\u001b[0m\n\u001b[1;32m     38\u001b[0m         \u001b[0;32mif\u001b[0m \u001b[0mlen\u001b[0m\u001b[0;34m(\u001b[0m\u001b[0mnlu_rank_correlations\u001b[0m\u001b[0;34m)\u001b[0m \u001b[0;34m<\u001b[0m \u001b[0;36m2\u001b[0m\u001b[0;34m:\u001b[0m \u001b[0;31m# no standard deviation when there is less than 2 correlation coefficients in a bin\u001b[0m\u001b[0;34m\u001b[0m\u001b[0;34m\u001b[0m\u001b[0m\n",
      "\u001b[0;31mZeroDivisionError\u001b[0m: division by zero"
     ]
    }
   ],
   "source": [
    "all_nlus_correlations = [] \n",
    "all_tabs = []\n",
    "for rank in range(NUM_INTENTS):\n",
    "    for i, nlu in enumerate(NLU_NAMES): \n",
    "        nlu_rank_correlations = []\n",
    "        sds = []\n",
    "        for iteration in range(NUM_SPLITS):\n",
    "            split_num = iteration + 1\n",
    "            # load nlu results\n",
    "            nlu_result_file = get_nlu_result_file(nlu, VERSION, split_num)\n",
    "            data = remove_empty_preds(load_json(nlu_result_file))\n",
    "            \n",
    "            # uncomment the following line to normalize the data\n",
    "            # data = normalize_data(nlu, data)\n",
    "\n",
    "            # get confidence scores and [binary] accuracy for a specific nlu rank\n",
    "            nlu_confidences = []\n",
    "            nlu_accuracies = []\n",
    "            for test in data:\n",
    "                set_random_descending_scores(test)\n",
    "                predicted_intent_conf = get_confidence_score(test, rank=rank, nlu=nlu, level=\"rank\")\n",
    "\n",
    "                predicted_intent_acc = get_accuracy(test, rank=rank, nlu=nlu, level=\"rank\")\n",
    "                nlu_confidences.append(predicted_intent_conf)\n",
    "                nlu_accuracies.append(predicted_intent_acc)\n",
    "            \n",
    "\n",
    "            # perform spearman correlation per nlu rank\n",
    "            correlation, pvalue = stats.spearmanr(nlu_confidences, nlu_accuracies, nan_policy='omit')\n",
    "            nlu_rank_correlations.append(correlation)\n",
    "        \n",
    "        # remove nan values\n",
    "        nlu_rank_correlations = [x for x in nlu_rank_correlations if str(x) != 'nan']\n",
    "\n",
    "        averaged_correlation = sum(nlu_rank_correlations) / len(nlu_rank_correlations)\n",
    "        \n",
    "        if len(nlu_rank_correlations) < 2: # no standard deviation when there is less than 2 correlation coefficients in a bin\n",
    "            sd = 0\n",
    "        else:\n",
    "            sd = stdev(nlu_rank_correlations)\n",
    "        sds.append(sd)\n",
    "        \n",
    "        all_nlus_correlations.append({'nlu' : nlu , 'rank' : (rank+1), 'correlation' : averaged_correlation, 'pvalue' : pvalue, 'standard deviation' : sd})\n",
    "    \n",
    "all_nlus_correlations"
   ]
  },
  {
   "cell_type": "code",
   "execution_count": 41,
   "id": "7de0546d",
   "metadata": {},
   "outputs": [
    {
     "data": {
      "image/png": "[encoded data removed]",
      "text/plain": [
       "<Figure size 720x360 with 1 Axes>"
      ]
     },
     "metadata": {
      "needs_background": "light"
     },
     "output_type": "display_data"
    }
   ],
   "source": [
    "for i, nlu in enumerate(NLU_NAMES):\n",
    "    nlu_ranks = [nlu_corr['rank'] for nlu_corr in all_nlus_correlations if nlu_corr['nlu']==nlu]\n",
    "    nlu_correlations = [nlu_corr['correlation'] for nlu_corr in all_nlus_correlations if nlu_corr['nlu']==nlu]\n",
    "    \n",
    "    if i==0:\n",
    "        fig, ax = plt.subplots(figsize=(10, 5))\n",
    "    #plt.errorbar(nlu_ranks, nlu_correlations, fmt='o', yerr=sds, ls='-', capsize=10, label=nlu, color=COLORS[i])\n",
    "    plt.plot(nlu_ranks, nlu_correlations, marker='o', linewidth=1, label=nlu, color=COLORS[i]) # plot without sd\n",
    "    \n",
    "plot_file_name = \"../visualizations/correlations/v8_all_rank_corrs.pdf\"\n",
    "plot_title = '{} (rank-level): Rank vs Spearman\\'s correlation'.format(\" & \".join(NLU_NAMES))\n",
    "show_reliability_plot(fig, ax, plot_file_name, plot_title, x_axis_desc='Ranks', y_axis_desc='Correlation', save=False, line=False)"
   ]
  },
  {
   "cell_type": "code",
   "execution_count": null,
   "id": "cd87921e",
   "metadata": {},
   "outputs": [],
   "source": []
  }
 ],
 "metadata": {
  "kernelspec": {
   "display_name": "Python 3 (ipykernel)",
   "language": "python",
   "name": "python3"
  },
  "language_info": {
   "codemirror_mode": {
    "name": "ipython",
    "version": 3
   },
   "file_extension": ".py",
   "mimetype": "text/x-python",
   "name": "python",
   "nbconvert_exporter": "python",
   "pygments_lexer": "ipython3",
   "version": "3.7.10"
  }
 },
 "nbformat": 4,
 "nbformat_minor": 5
}
