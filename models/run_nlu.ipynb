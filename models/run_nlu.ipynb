{
 "cells": [
  {
   "cell_type": "code",
   "execution_count": null,
   "id": "7e9a32bf",
   "metadata": {},
   "outputs": [],
   "source": [
    "import os\n",
    "from dotenv import load_dotenv, find_dotenv\n",
    "import json\n",
    "import csv\n",
    "\n",
    "import requests\n",
    "import time\n",
    "\n",
    "from ibm_watson import AssistantV2\n",
    "from ibm_cloud_sdk_core.authenticators import IAMAuthenticator\n",
    "\n",
    "from snips_nlu import SnipsNLUEngine\n",
    "from snips_nlu.default_configs import CONFIG_EN\n",
    "\n",
    "from numpy import exp\n",
    "import collections"
   ]
  },
  {
   "cell_type": "code",
   "execution_count": null,
   "id": "4d64cda3",
   "metadata": {},
   "outputs": [],
   "source": [
    "# constants\n",
    "NLU_NAME = 'luis'\n",
    "VERSION = 6\n",
    "\n",
    "# paths\n",
    "TRAIN_FILE = '../datasets/' + NLU_NAME + '_train_v' + str(VERSION) + '.json'\n",
    "TEST_FILE = '../datasets/' + NLU_NAME + '_test_v' + str(VERSION) + '.csv'\n",
    "OUTPUT_FILE = '../results/' + NLU_NAME + '_results_v' + str(VERSION) + '.json'\n",
    "\n",
    "load_dotenv(find_dotenv())"
   ]
  },
  {
   "cell_type": "markdown",
   "id": "b90908a1",
   "metadata": {},
   "source": [
    "## Train/ load NLU model"
   ]
  },
  {
   "cell_type": "markdown",
   "id": "d0e46c75",
   "metadata": {},
   "source": [
    "### Snips.ai"
   ]
  },
  {
   "cell_type": "code",
   "execution_count": null,
   "id": "351e3eb1",
   "metadata": {},
   "outputs": [],
   "source": [
    "def read_json_file(filename):\n",
    "    with open(filename) as f:\n",
    "        data = json.load(f)\n",
    "    return data"
   ]
  },
  {
   "cell_type": "code",
   "execution_count": null,
   "id": "e51bae74",
   "metadata": {},
   "outputs": [],
   "source": [
    "train_dataset = read_json_file(TRAIN_FILE)\n",
    "nlu_engine = SnipsNLUEngine(config=CONFIG_EN)\n",
    "nlu_engine.fit(train_dataset)"
   ]
  },
  {
   "cell_type": "markdown",
   "id": "7bb22e66",
   "metadata": {},
   "source": [
    "### Watson Assistant"
   ]
  },
  {
   "cell_type": "code",
   "execution_count": null,
   "id": "11806163",
   "metadata": {},
   "outputs": [],
   "source": [
    "# documentation: https://cloud.ibm.com/apidocs/assistant/assistant-v2?code=python\n",
    "authenticator = IAMAuthenticator(os.getenv(\"IBM_ASSISTANT_API_KEY\"))\n",
    "assistant = AssistantV2(\n",
    "    version='2022-02-02',\n",
    "    authenticator = authenticator\n",
    ")\n",
    "assistant.set_service_url(os.getenv(\"IBM_WATSON_REGION\"))\n",
    "## TODO: get the correct skill depending on the domain (should be created manually first in IBM's interface)"
   ]
  },
  {
   "cell_type": "markdown",
   "id": "eb018368",
   "metadata": {},
   "source": [
    "## Test NLU (works for Watson, LUIS and Snips.ai)"
   ]
  },
  {
   "cell_type": "code",
   "execution_count": null,
   "id": "d9bea889",
   "metadata": {},
   "outputs": [],
   "source": [
    "def unify_keys(json_res, nlu='snips'):\n",
    "    for rank in json_res['intent_ranking']:\n",
    "        if nlu=='snips':\n",
    "            rank['name'] = rank.pop('intentName')\n",
    "            rank['confidence'] = rank.pop('probability')\n",
    "        elif nlu=='watson':\n",
    "            rank['name'] = rank.pop('intent')\n",
    "        else:\n",
    "            pass\n",
    "    return json_res"
   ]
  },
  {
   "cell_type": "code",
   "execution_count": null,
   "id": "608220a1",
   "metadata": {},
   "outputs": [],
   "source": [
    "def add_is_correct(json_res):\n",
    "    if json_res['intent_ranking'][0]['name'] == intent:\n",
    "        json_res['is_correct'] = True\n",
    "    else:\n",
    "        json_res['is_correct'] = False\n",
    "    return json_res   "
   ]
  },
  {
   "cell_type": "code",
   "execution_count": null,
   "id": "4f308028",
   "metadata": {},
   "outputs": [],
   "source": [
    "def get_nlu_response(utterance, assistant=None, nlu='snips'):\n",
    "    if nlu=='watson':\n",
    "        response = assistant.message_stateless(\n",
    "            assistant_id=os.getenv(\"IBM_ASSISTANT_ID\"),\n",
    "                input={\n",
    "                    'message_type': 'text',\n",
    "                    'text': utterance,\n",
    "                    'options' : {'alternate_intents': True}\n",
    "                }\n",
    "            ).get_result()\n",
    "    elif nlu=='snips':\n",
    "        response = nlu_engine.get_intents(utterance)\n",
    "    elif nlu=='luis':\n",
    "        appId = os.getenv(\"LUIS_APP_ID\")\n",
    "        prediction_key = os.getenv(\"LUIS_PREDICTION_SUBSCRIPTION_KEY\")\n",
    "        prediction_endpoint = os.getenv(\"LUIS_PREDICTION_ENDPOINT\")\n",
    "        # The URL parameters to use in this REST call.\n",
    "        headers = {}\n",
    "        params ={\n",
    "            'query': utterance,\n",
    "            'timezoneOffset': '0',\n",
    "            'verbose': 'true',\n",
    "            'show-all-intents': 'true',\n",
    "            'spellCheck': 'false',\n",
    "            'staging': 'false',\n",
    "            'subscription-key': prediction_key\n",
    "        }\n",
    "\n",
    "        # Make the REST call.\n",
    "        response = requests.get(f'{prediction_endpoint}luis/prediction/v3.0/apps/{appId}/slots/production/predict', headers=headers, params=params)\n",
    "        response = response.json()\n",
    "    else:\n",
    "        pass\n",
    "    \n",
    "    return response"
   ]
  },
  {
   "cell_type": "code",
   "execution_count": null,
   "id": "e5b22316",
   "metadata": {},
   "outputs": [],
   "source": [
    "def sleep_if_luis(i, nlu='luis'): \n",
    "    if i % 5 == 4 and nlu=='luis': # not 0 because indecies start at 0\n",
    "        time.sleep(1.5) # to keep a rate of 5TC per second"
   ]
  },
  {
   "cell_type": "code",
   "execution_count": null,
   "id": "5b0056f9",
   "metadata": {},
   "outputs": [],
   "source": [
    "file = open(TEST_FILE)\n",
    "reader = csv.reader(file, delimiter=',')"
   ]
  },
  {
   "cell_type": "code",
   "execution_count": null,
   "id": "e3caa867",
   "metadata": {},
   "outputs": [],
   "source": [
    "results = []\n",
    "for i, row in enumerate(reader):\n",
    "    intent = row[1]\n",
    "    utterance = row[0]\n",
    "    \n",
    "    if i==0 or utterance=='': # skip header and empty utterances\n",
    "        continue \n",
    "        \n",
    "    sleep_if_luis(i, nlu=NLU_NAME)\n",
    "    \n",
    "    if NLU_NAME == 'watson':\n",
    "        response = get_nlu_response(utterance, assistant=assistant, nlu=NLU_NAME)\n",
    "        intent_ranking = response['output']['intents']\n",
    "    elif NLU_NAME == 'snips':\n",
    "        intent_ranking = get_nlu_response(utterance, nlu=NLU_NAME)\n",
    "        intent_ranking = [r for r in intent_ranking if r['intentName'] != None]\n",
    "    elif NLU_NAME == 'luis':\n",
    "        response = get_nlu_response(utterance, nlu=NLU_NAME)\n",
    "        try:\n",
    "            intent_ranking = response['prediction']['intents']\n",
    "            intent_ranking = [{'name' : n, 'confidence': s['score']} for n,s in intent_ranking.items()]\n",
    "        except:\n",
    "            print(response)\n",
    "            print(\"Trying to recover ...\")\n",
    "            time.sleep(1)\n",
    "            response = get_nlu_response(utterance, nlu=NLU_NAME)\n",
    "            try:\n",
    "                intent_ranking = response['prediction']['intents']\n",
    "                intent_ranking = [{'name' : n, 'confidence': s['score']} for n,s in intent_ranking.items()]\n",
    "            except:\n",
    "                print(\"Failed to recover. Adding an empty list to intent_ranking\")\n",
    "                intent_ranking = []\n",
    "        \n",
    "    json_res = { 'text': utterance,\n",
    "                 'correct_intent' : intent,\n",
    "                 'intent_ranking' : intent_ranking\n",
    "                }\n",
    "    \n",
    "    try:\n",
    "        json_res = unify_keys(json_res, nlu=NLU_NAME)\n",
    "        json_res = add_is_correct(json_res)\n",
    "        \n",
    "        results.append(json_res)\n",
    "    except:\n",
    "        # ignored predictions\n",
    "        print(\"this is ignored\", json_res)"
   ]
  },
  {
   "cell_type": "code",
   "execution_count": null,
   "id": "91f27da6",
   "metadata": {},
   "outputs": [],
   "source": [
    "with open(OUTPUT_FILE, 'w') as f:\n",
    "    json.dump(results, f, indent=2)"
   ]
  }
 ],
 "metadata": {
  "kernelspec": {
   "display_name": "Python [conda env:snips_env]",
   "language": "python",
   "name": "conda-env-snips_env-py"
  },
  "language_info": {
   "codemirror_mode": {
    "name": "ipython",
    "version": 3
   },
   "file_extension": ".py",
   "mimetype": "text/x-python",
   "name": "python",
   "nbconvert_exporter": "python",
   "pygments_lexer": "ipython3",
   "version": "3.8.12"
  }
 },
 "nbformat": 4,
 "nbformat_minor": 5
}
