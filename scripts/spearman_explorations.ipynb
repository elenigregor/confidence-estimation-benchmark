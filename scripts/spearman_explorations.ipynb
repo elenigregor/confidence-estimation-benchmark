{
 "cells": [
  {
   "cell_type": "markdown",
   "id": "2b9ca36d",
   "metadata": {},
   "source": [
    "## Create data with artificial scores"
   ]
  },
  {
   "cell_type": "code",
   "execution_count": 62,
   "id": "d976a814",
   "metadata": {},
   "outputs": [
    {
     "name": "stdout",
     "output_type": "stream",
     "text": [
      "watson\n",
      "luis\n",
      "snips\n",
      "rasa-sklearn\n",
      "rasa-diet\n"
     ]
    }
   ],
   "source": [
    "import json\n",
    "import random\n",
    "import os\n",
    "\n",
    "NUM_INTENTS = 10\n",
    "NLU_NAMES = ['watson', 'luis', 'snips', 'rasa-sklearn', 'rasa-diet']\n",
    "\n",
    "def get_nlu_result_dir(nlu, version):\n",
    "    return '../results/' + nlu + '/v' + str(version)\n",
    "\n",
    "def get_nlu_result_file(nlu, version, split_num):\n",
    "    nlu_result_file = get_nlu_result_dir(nlu, version) + '/' + nlu + '_split_' + str(split_num) + '_results_v' + str(version) + '.json'\n",
    "    return nlu_result_file\n",
    "\n",
    "def normalize(vector):\n",
    "    normalized_vector = [v/sum(vector) for v in vector]\n",
    "    return normalized_vector\n",
    "\n",
    "def set_random_descending_scores(test):\n",
    "    scores = sorted([random.uniform(0,1) for _ in range(NUM_INTENTS)], key=lambda x: -x)\n",
    "    if nlu != 'watson':\n",
    "        scores = normalize(scores)\n",
    "    for i in range(NUM_INTENTS):\n",
    "        test['intent_ranking'][i]['confidence'] = scores[i]\n",
    "        \n",
    "def set_uniform_descending_scores(test):\n",
    "    for i in range(NUM_INTENTS):\n",
    "        test['intent_ranking'][i]['confidence'] = 1 - i/NUM_INTENTS\n",
    "\n",
    "def ensure_dir_exists(path):\n",
    "    if not os.path.exists(path):\n",
    "        os.mkdir(path)\n",
    "\n",
    "def create_results_with_artificial_scores(rescoring_function, dir_suffix):\n",
    "    output_version = f'{VERSION}_{dir_suffix}'\n",
    "\n",
    "    def create_results_for_nlu_and_split(nlu, split_num):\n",
    "        data = json.load(open(get_nlu_result_file(nlu, VERSION, split_num)))\n",
    "        for i in range(len(data)):\n",
    "            test = data[i]\n",
    "            if test['text'] != '':\n",
    "                rescoring_function(test)\n",
    "        json.dump(\n",
    "            data, open(get_nlu_result_file(nlu, output_version, split_num), 'w'),\n",
    "            indent=2)\n",
    "\n",
    "    for nlu in NLU_NAMES:\n",
    "        print(nlu)\n",
    "        ensure_dir_exists(get_nlu_result_dir(nlu, output_version))\n",
    "        for split_num in range(1, NUM_SPLITS+1):\n",
    "            create_results_for_nlu_and_split(nlu, split_num)\n",
    "\n",
    "create_results_with_artificial_scores(set_random_descending_scores, \"random\")"
   ]
  },
  {
   "cell_type": "markdown",
   "id": "26465496",
   "metadata": {},
   "source": [
    "## Rank-level score SD"
   ]
  },
  {
   "cell_type": "code",
   "execution_count": 3,
   "id": "a81fdab8",
   "metadata": {},
   "outputs": [
    {
     "name": "stdout",
     "output_type": "stream",
     "text": [
      "watson\n"
     ]
    },
    {
     "data": {
      "image/png": "[encoded data removed]",
      "text/plain": [
       "<Figure size 432x288 with 1 Axes>"
      ]
     },
     "metadata": {
      "needs_background": "light"
     },
     "output_type": "display_data"
    },
    {
     "name": "stdout",
     "output_type": "stream",
     "text": [
      "luis\n"
     ]
    },
    {
     "data": {
      "image/png": "[encoded data removed]",
      "text/plain": [
       "<Figure size 432x288 with 1 Axes>"
      ]
     },
     "metadata": {
      "needs_background": "light"
     },
     "output_type": "display_data"
    },
    {
     "name": "stdout",
     "output_type": "stream",
     "text": [
      "snips\n"
     ]
    },
    {
     "data": {
      "image/png": "[encoded data removed]",
      "text/plain": [
       "<Figure size 432x288 with 1 Axes>"
      ]
     },
     "metadata": {
      "needs_background": "light"
     },
     "output_type": "display_data"
    },
    {
     "name": "stdout",
     "output_type": "stream",
     "text": [
      "rasa-sklearn\n"
     ]
    },
    {
     "data": {
      "image/png": "[encoded data removed]",
      "text/plain": [
       "<Figure size 432x288 with 1 Axes>"
      ]
     },
     "metadata": {
      "needs_background": "light"
     },
     "output_type": "display_data"
    },
    {
     "name": "stdout",
     "output_type": "stream",
     "text": [
      "rasa-diet\n"
     ]
    },
    {
     "data": {
      "image/png": "[encoded data removed]",
      "text/plain": [
       "<Figure size 432x288 with 1 Axes>"
      ]
     },
     "metadata": {
      "needs_background": "light"
     },
     "output_type": "display_data"
    }
   ],
   "source": [
    "def get_scores(nlu, rank):\n",
    "    for iteration in range(NUM_SPLITS):\n",
    "        split_num = iteration + 1\n",
    "        nlu_result_file = get_nlu_result_file(nlu, VERSION, split_num)\n",
    "        data = remove_empty_preds(load_json(nlu_result_file))\n",
    "        for test in data:\n",
    "            yield test['intent_ranking'][rank]['confidence']\n",
    "\n",
    "for i, nlu in enumerate(NLU_NAMES):\n",
    "    print(nlu)\n",
    "    sds = []\n",
    "    for rank in range(NUM_INTENTS):\n",
    "        #print('rank', rank)\n",
    "        scores = list(get_scores(nlu, rank))\n",
    "        sd = stdev(scores)\n",
    "        #print(nlu, sd)\n",
    "        sds.append(sd)\n",
    "        \n",
    "    fig, ax = plt.subplots()\n",
    "    ax.bar(range(NUM_INTENTS), sds)\n",
    "    plt.show()\n",
    "\n",
    "\n",
    "\n",
    "\n"
   ]
  },
  {
   "cell_type": "code",
   "execution_count": null,
   "id": "c3287160",
   "metadata": {},
   "outputs": [],
   "source": []
  }
 ],
 "metadata": {
  "kernelspec": {
   "display_name": "Python 3 (ipykernel)",
   "language": "python",
   "name": "python3"
  },
  "language_info": {
   "codemirror_mode": {
    "name": "ipython",
    "version": 3
   },
   "file_extension": ".py",
   "mimetype": "text/x-python",
   "name": "python",
   "nbconvert_exporter": "python",
   "pygments_lexer": "ipython3",
   "version": "3.7.10"
  }
 },
 "nbformat": 4,
 "nbformat_minor": 5
}
